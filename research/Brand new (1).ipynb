{
 "cells": [
  {
   "cell_type": "code",
   "execution_count": 1,
   "id": "1f0673ba",
   "metadata": {},
   "outputs": [
    {
     "ename": "DeprecationError",
     "evalue": "PdfFileReader is deprecated and was removed in PyPDF2 3.0.0. Use PdfReader instead.",
     "output_type": "error",
     "traceback": [
      "\u001b[1;31m---------------------------------------------------------------------------\u001b[0m",
      "\u001b[1;31mDeprecationError\u001b[0m                          Traceback (most recent call last)",
      "Cell \u001b[1;32mIn[1], line 4\u001b[0m\n\u001b[0;32m      2\u001b[0m \u001b[38;5;28;01mimport\u001b[39;00m \u001b[38;5;21;01mnltk\u001b[39;00m\n\u001b[0;32m      3\u001b[0m pdf_file \u001b[38;5;241m=\u001b[39m \u001b[38;5;28mopen\u001b[39m(\u001b[38;5;124m'\u001b[39m\u001b[38;5;124mD:/Internship On AI/GUI/data/Unknown_vs_The_State_Of_West_Bengal_Ors_on_10_March_2015.PDF\u001b[39m\u001b[38;5;124m'\u001b[39m, \u001b[38;5;124m'\u001b[39m\u001b[38;5;124mrb\u001b[39m\u001b[38;5;124m'\u001b[39m)\n\u001b[1;32m----> 4\u001b[0m pdf_reader \u001b[38;5;241m=\u001b[39m \u001b[43mPyPDF2\u001b[49m\u001b[38;5;241;43m.\u001b[39;49m\u001b[43mPdfFileReader\u001b[49m\u001b[43m(\u001b[49m\u001b[43mpdf_file\u001b[49m\u001b[43m)\u001b[49m\n",
      "File \u001b[1;32m~\\AppData\\Local\\Programs\\Python\\Python311\\Lib\\site-packages\\PyPDF2\\_reader.py:1974\u001b[0m, in \u001b[0;36mPdfFileReader.__init__\u001b[1;34m(self, *args, **kwargs)\u001b[0m\n\u001b[0;32m   1973\u001b[0m \u001b[38;5;28;01mdef\u001b[39;00m \u001b[38;5;21m__init__\u001b[39m(\u001b[38;5;28mself\u001b[39m, \u001b[38;5;241m*\u001b[39margs: Any, \u001b[38;5;241m*\u001b[39m\u001b[38;5;241m*\u001b[39mkwargs: Any) \u001b[38;5;241m-\u001b[39m\u001b[38;5;241m>\u001b[39m \u001b[38;5;28;01mNone\u001b[39;00m:\n\u001b[1;32m-> 1974\u001b[0m     \u001b[43mdeprecation_with_replacement\u001b[49m\u001b[43m(\u001b[49m\u001b[38;5;124;43m\"\u001b[39;49m\u001b[38;5;124;43mPdfFileReader\u001b[39;49m\u001b[38;5;124;43m\"\u001b[39;49m\u001b[43m,\u001b[49m\u001b[43m \u001b[49m\u001b[38;5;124;43m\"\u001b[39;49m\u001b[38;5;124;43mPdfReader\u001b[39;49m\u001b[38;5;124;43m\"\u001b[39;49m\u001b[43m,\u001b[49m\u001b[43m \u001b[49m\u001b[38;5;124;43m\"\u001b[39;49m\u001b[38;5;124;43m3.0.0\u001b[39;49m\u001b[38;5;124;43m\"\u001b[39;49m\u001b[43m)\u001b[49m\n\u001b[0;32m   1975\u001b[0m     \u001b[38;5;28;01mif\u001b[39;00m \u001b[38;5;124m\"\u001b[39m\u001b[38;5;124mstrict\u001b[39m\u001b[38;5;124m\"\u001b[39m \u001b[38;5;129;01mnot\u001b[39;00m \u001b[38;5;129;01min\u001b[39;00m kwargs \u001b[38;5;129;01mand\u001b[39;00m \u001b[38;5;28mlen\u001b[39m(args) \u001b[38;5;241m<\u001b[39m \u001b[38;5;241m2\u001b[39m:\n\u001b[0;32m   1976\u001b[0m         kwargs[\u001b[38;5;124m\"\u001b[39m\u001b[38;5;124mstrict\u001b[39m\u001b[38;5;124m\"\u001b[39m] \u001b[38;5;241m=\u001b[39m \u001b[38;5;28;01mTrue\u001b[39;00m  \u001b[38;5;66;03m# maintain the default\u001b[39;00m\n",
      "File \u001b[1;32m~\\AppData\\Local\\Programs\\Python\\Python311\\Lib\\site-packages\\PyPDF2\\_utils.py:369\u001b[0m, in \u001b[0;36mdeprecation_with_replacement\u001b[1;34m(old_name, new_name, removed_in)\u001b[0m\n\u001b[0;32m    363\u001b[0m \u001b[38;5;28;01mdef\u001b[39;00m \u001b[38;5;21mdeprecation_with_replacement\u001b[39m(\n\u001b[0;32m    364\u001b[0m     old_name: \u001b[38;5;28mstr\u001b[39m, new_name: \u001b[38;5;28mstr\u001b[39m, removed_in: \u001b[38;5;28mstr\u001b[39m \u001b[38;5;241m=\u001b[39m \u001b[38;5;124m\"\u001b[39m\u001b[38;5;124m3.0.0\u001b[39m\u001b[38;5;124m\"\u001b[39m\n\u001b[0;32m    365\u001b[0m ) \u001b[38;5;241m-\u001b[39m\u001b[38;5;241m>\u001b[39m \u001b[38;5;28;01mNone\u001b[39;00m:\n\u001b[0;32m    366\u001b[0m \u001b[38;5;250m    \u001b[39m\u001b[38;5;124;03m\"\"\"\u001b[39;00m\n\u001b[0;32m    367\u001b[0m \u001b[38;5;124;03m    Raise an exception that a feature was already removed, but has a replacement.\u001b[39;00m\n\u001b[0;32m    368\u001b[0m \u001b[38;5;124;03m    \"\"\"\u001b[39;00m\n\u001b[1;32m--> 369\u001b[0m     \u001b[43mdeprecation\u001b[49m\u001b[43m(\u001b[49m\u001b[43mDEPR_MSG_HAPPENED\u001b[49m\u001b[38;5;241;43m.\u001b[39;49m\u001b[43mformat\u001b[49m\u001b[43m(\u001b[49m\u001b[43mold_name\u001b[49m\u001b[43m,\u001b[49m\u001b[43m \u001b[49m\u001b[43mremoved_in\u001b[49m\u001b[43m,\u001b[49m\u001b[43m \u001b[49m\u001b[43mnew_name\u001b[49m\u001b[43m)\u001b[49m\u001b[43m)\u001b[49m\n",
      "File \u001b[1;32m~\\AppData\\Local\\Programs\\Python\\Python311\\Lib\\site-packages\\PyPDF2\\_utils.py:351\u001b[0m, in \u001b[0;36mdeprecation\u001b[1;34m(msg)\u001b[0m\n\u001b[0;32m    350\u001b[0m \u001b[38;5;28;01mdef\u001b[39;00m \u001b[38;5;21mdeprecation\u001b[39m(msg: \u001b[38;5;28mstr\u001b[39m) \u001b[38;5;241m-\u001b[39m\u001b[38;5;241m>\u001b[39m \u001b[38;5;28;01mNone\u001b[39;00m:\n\u001b[1;32m--> 351\u001b[0m     \u001b[38;5;28;01mraise\u001b[39;00m DeprecationError(msg)\n",
      "\u001b[1;31mDeprecationError\u001b[0m: PdfFileReader is deprecated and was removed in PyPDF2 3.0.0. Use PdfReader instead."
     ]
    }
   ],
   "source": [
    "import PyPDF2\n",
    "import nltk\n",
    "pdf_file = open('D:/Internship On AI/GUI/data/Unknown_vs_The_State_Of_West_Bengal_Ors_on_10_March_2015.PDF', 'rb')\n",
    "pdf_reader = PyPDF2.PdfFileReader(pdf_file)"
   ]
  },
  {
   "cell_type": "code",
   "execution_count": 2,
   "id": "67d15b76",
   "metadata": {},
   "outputs": [
    {
     "ename": "NameError",
     "evalue": "name 'pdf_reader' is not defined",
     "output_type": "error",
     "traceback": [
      "\u001b[1;31m---------------------------------------------------------------------------\u001b[0m",
      "\u001b[1;31mNameError\u001b[0m                                 Traceback (most recent call last)",
      "Cell \u001b[1;32mIn[2], line 2\u001b[0m\n\u001b[0;32m      1\u001b[0m pdf_text \u001b[38;5;241m=\u001b[39m \u001b[38;5;124m'\u001b[39m\u001b[38;5;124m'\u001b[39m\n\u001b[1;32m----> 2\u001b[0m \u001b[38;5;28;01mfor\u001b[39;00m page \u001b[38;5;129;01min\u001b[39;00m \u001b[38;5;28mrange\u001b[39m(\u001b[43mpdf_reader\u001b[49m\u001b[38;5;241m.\u001b[39mgetNumPages()):\n\u001b[0;32m      3\u001b[0m     page_obj \u001b[38;5;241m=\u001b[39m pdf_reader\u001b[38;5;241m.\u001b[39mgetPage(page)\n\u001b[0;32m      4\u001b[0m     pdf_text \u001b[38;5;241m+\u001b[39m\u001b[38;5;241m=\u001b[39m page_obj\u001b[38;5;241m.\u001b[39mextractText()\n",
      "\u001b[1;31mNameError\u001b[0m: name 'pdf_reader' is not defined"
     ]
    }
   ],
   "source": [
    "pdf_text = ''\n",
    "for page in range(pdf_reader.getNumPages()):\n",
    "    page_obj = pdf_reader.getPage(page)\n",
    "    pdf_text += page_obj.extractText()"
   ]
  },
  {
   "cell_type": "code",
   "execution_count": 4,
   "id": "08904163",
   "metadata": {},
   "outputs": [
    {
     "name": "stdout",
     "output_type": "stream",
     "text": [
      "\n"
     ]
    }
   ],
   "source": [
    "print(pdf_text)"
   ]
  },
  {
   "cell_type": "code",
   "execution_count": 5,
   "id": "b92db0c9",
   "metadata": {},
   "outputs": [],
   "source": [
    "tokens = nltk.word_tokenize(pdf_text)"
   ]
  },
  {
   "cell_type": "code",
   "execution_count": 6,
   "id": "8f0fe2db",
   "metadata": {},
   "outputs": [
    {
     "name": "stdout",
     "output_type": "stream",
     "text": [
      "[]\n"
     ]
    }
   ],
   "source": [
    "print(tokens)"
   ]
  },
  {
   "cell_type": "code",
   "execution_count": 7,
   "id": "93b243c7",
   "metadata": {},
   "outputs": [
    {
     "data": {
      "text/plain": [
       "list"
      ]
     },
     "execution_count": 7,
     "metadata": {},
     "output_type": "execute_result"
    }
   ],
   "source": [
    "type(tokens)"
   ]
  },
  {
   "cell_type": "code",
   "execution_count": 8,
   "id": "dcf9ac13",
   "metadata": {},
   "outputs": [
    {
     "name": "stdout",
     "output_type": "stream",
     "text": [
      "[]\n"
     ]
    }
   ],
   "source": [
    "lowercase_words = [word.lower() for word in tokens]\n",
    "print(lowercase_words)"
   ]
  },
  {
   "cell_type": "code",
   "execution_count": 9,
   "id": "b50f2dfa",
   "metadata": {},
   "outputs": [
    {
     "name": "stdout",
     "output_type": "stream",
     "text": [
      "[]\n"
     ]
    }
   ],
   "source": [
    "import nltk\n",
    "from nltk.corpus import stopwords\n",
    "\n",
    "stop_words = set(stopwords.words('english'))\n",
    "\n",
    "# Remove stopwords\n",
    "words = [word for word in lowercase_words if word not in stop_words]\n",
    "\n",
    "print(words)"
   ]
  },
  {
   "cell_type": "code",
   "execution_count": 10,
   "id": "880485d3",
   "metadata": {},
   "outputs": [
    {
     "name": "stdout",
     "output_type": "stream",
     "text": [
      "[]\n"
     ]
    }
   ],
   "source": [
    "from nltk.stem import PorterStemmer\n",
    "stemmer = PorterStemmer()\n",
    "def stem_list(lst):\n",
    "    stemmed_lst = []\n",
    "    for word in lst:\n",
    "        stemmed_word = stemmer.stem(word)\n",
    "        stemmed_lst.append(stemmed_word)\n",
    "    return stemmed_lst\n",
    "#calling stemming function\n",
    "stemmed_words = stem_list(words)\n",
    "print(stemmed_words)"
   ]
  },
  {
   "cell_type": "code",
   "execution_count": 11,
   "id": "97099629",
   "metadata": {},
   "outputs": [
    {
     "name": "stdout",
     "output_type": "stream",
     "text": [
      "[]\n"
     ]
    }
   ],
   "source": [
    "import nltk\n",
    "from nltk.stem import WordNetLemmatizer\n",
    "\n",
    "# create an instance of the WordNetLemmatizer\n",
    "lemmatizer = WordNetLemmatizer()\n",
    "\n",
    "# lemmatize each word in the list\n",
    "lemmatized_words = [lemmatizer.lemmatize(word) for word in stemmed_words]\n",
    "\n",
    "print(lemmatized_words)"
   ]
  },
  {
   "cell_type": "code",
   "execution_count": 12,
   "id": "01b42515",
   "metadata": {},
   "outputs": [
    {
     "name": "stdout",
     "output_type": "stream",
     "text": [
      "[]\n"
     ]
    }
   ],
   "source": [
    "#removing punctuation\n",
    "import string\n",
    "\n",
    "# Create a string containing all punctuation characters\n",
    "punctuation_chars = string.punctuation\n",
    "\n",
    "# Use a list comprehension to filter out the punctuations\n",
    "my_list_without_punctuations = [word for word in lemmatized_words if word not in punctuation_chars]\n",
    "\n",
    "print(my_list_without_punctuations)"
   ]
  },
  {
   "cell_type": "code",
   "execution_count": 13,
   "id": "4575d89d",
   "metadata": {},
   "outputs": [],
   "source": [
    "import re\n",
    "\n",
    "def extract_crime_names(strings):\n",
    "    # A list of common crime names to search for\n",
    "    crime_names = [\"theft\", \"robbery\", \"assault\", \"murder\", \"fraud\", \"burglary\", \"kidnapping\", \"arson\", \"Criminal force\", \"Outrageof modesty\", \"Assault of woman\",\"rape\"]\n",
    "\n",
    "    # Compile a regular expression pattern to match any of the crime names\n",
    "    pattern = re.compile(\"|\".join(crime_names), re.IGNORECASE)\n",
    "\n",
    "    # Iterate over each string in the input list and search for matches\n",
    "    matches = []\n",
    "    for string in strings:\n",
    "        match = pattern.search(string)\n",
    "        if match:\n",
    "            matches.append(match.group(0))\n",
    "\n",
    "    # Return the list of matches\n",
    "    return matches"
   ]
  },
  {
   "cell_type": "code",
   "execution_count": 14,
   "id": "960a6c0b",
   "metadata": {},
   "outputs": [
    {
     "name": "stdout",
     "output_type": "stream",
     "text": [
      "[]\n"
     ]
    }
   ],
   "source": [
    "#calling function to extract crime names\n",
    "crime_names = extract_crime_names(my_list_without_punctuations)\n",
    "print(crime_names)"
   ]
  },
  {
   "cell_type": "code",
   "execution_count": 15,
   "id": "d804f538",
   "metadata": {},
   "outputs": [],
   "source": [
    "import re\n",
    "\n",
    "def extract_charges_names(strings):\n",
    "    # A list of common crime names to search for\n",
    "    crime_names = [\"363\",\"366\",\"376\",\"506\",\"indian penal code\", \"ipc\"]\n",
    "\n",
    "    # Compile a regular expression pattern to match any of the crime names\n",
    "    pattern = re.compile(\"|\".join(crime_names), re.IGNORECASE)\n",
    "\n",
    "    # Iterate over each string in the input list and search for matches\n",
    "    matches = []\n",
    "    for string in strings:\n",
    "        match = pattern.search(string)\n",
    "        if match:\n",
    "            matches.append(match.group(0))\n",
    "\n",
    "    # Return the list of matches\n",
    "    return matches"
   ]
  },
  {
   "cell_type": "code",
   "execution_count": 16,
   "id": "8dbc1a46",
   "metadata": {},
   "outputs": [
    {
     "name": "stdout",
     "output_type": "stream",
     "text": [
      "[]\n"
     ]
    }
   ],
   "source": [
    "#calling function to extract crime names\n",
    "crime_names = extract_charges_names(my_list_without_punctuations)\n",
    "print(crime_names)"
   ]
  },
  {
   "cell_type": "code",
   "execution_count": 17,
   "id": "2d49c55a",
   "metadata": {},
   "outputs": [
    {
     "name": "stdout",
     "output_type": "stream",
     "text": [
      "Enter the target string: \n",
      "Enter the file name: \n"
     ]
    },
    {
     "ename": "FileNotFoundError",
     "evalue": "[Errno 2] No such file or directory: ''",
     "output_type": "error",
     "traceback": [
      "\u001b[1;31m---------------------------------------------------------------------------\u001b[0m",
      "\u001b[1;31mFileNotFoundError\u001b[0m                         Traceback (most recent call last)",
      "Cell \u001b[1;32mIn[17], line 9\u001b[0m\n\u001b[0;32m      6\u001b[0m file_name \u001b[38;5;241m=\u001b[39m \u001b[38;5;28minput\u001b[39m(\u001b[38;5;124m\"\u001b[39m\u001b[38;5;124mEnter the file name: \u001b[39m\u001b[38;5;124m\"\u001b[39m)\n\u001b[0;32m      8\u001b[0m \u001b[38;5;66;03m# Open the PDF file in read binary mode\u001b[39;00m\n\u001b[1;32m----> 9\u001b[0m \u001b[38;5;28;01mwith\u001b[39;00m \u001b[38;5;28;43mopen\u001b[39;49m\u001b[43m(\u001b[49m\u001b[43mfile_name\u001b[49m\u001b[43m,\u001b[49m\u001b[43m \u001b[49m\u001b[38;5;124;43m'\u001b[39;49m\u001b[38;5;124;43mrb\u001b[39;49m\u001b[38;5;124;43m'\u001b[39;49m\u001b[43m)\u001b[49m \u001b[38;5;28;01mas\u001b[39;00m f:\n\u001b[0;32m     10\u001b[0m     \u001b[38;5;66;03m# Create a PDF reader object\u001b[39;00m\n\u001b[0;32m     11\u001b[0m     pdf_reader \u001b[38;5;241m=\u001b[39m PyPDF2\u001b[38;5;241m.\u001b[39mPdfFileReader(f)\n\u001b[0;32m     13\u001b[0m     \u001b[38;5;66;03m# Loop through each page in the PDF\u001b[39;00m\n",
      "File \u001b[1;32m~\\AppData\\Local\\Programs\\Python\\Python311\\Lib\\site-packages\\IPython\\core\\interactiveshell.py:284\u001b[0m, in \u001b[0;36m_modified_open\u001b[1;34m(file, *args, **kwargs)\u001b[0m\n\u001b[0;32m    277\u001b[0m \u001b[38;5;28;01mif\u001b[39;00m file \u001b[38;5;129;01min\u001b[39;00m {\u001b[38;5;241m0\u001b[39m, \u001b[38;5;241m1\u001b[39m, \u001b[38;5;241m2\u001b[39m}:\n\u001b[0;32m    278\u001b[0m     \u001b[38;5;28;01mraise\u001b[39;00m \u001b[38;5;167;01mValueError\u001b[39;00m(\n\u001b[0;32m    279\u001b[0m         \u001b[38;5;124mf\u001b[39m\u001b[38;5;124m\"\u001b[39m\u001b[38;5;124mIPython won\u001b[39m\u001b[38;5;124m'\u001b[39m\u001b[38;5;124mt let you open fd=\u001b[39m\u001b[38;5;132;01m{\u001b[39;00mfile\u001b[38;5;132;01m}\u001b[39;00m\u001b[38;5;124m by default \u001b[39m\u001b[38;5;124m\"\u001b[39m\n\u001b[0;32m    280\u001b[0m         \u001b[38;5;124m\"\u001b[39m\u001b[38;5;124mas it is likely to crash IPython. If you know what you are doing, \u001b[39m\u001b[38;5;124m\"\u001b[39m\n\u001b[0;32m    281\u001b[0m         \u001b[38;5;124m\"\u001b[39m\u001b[38;5;124myou can use builtins\u001b[39m\u001b[38;5;124m'\u001b[39m\u001b[38;5;124m open.\u001b[39m\u001b[38;5;124m\"\u001b[39m\n\u001b[0;32m    282\u001b[0m     )\n\u001b[1;32m--> 284\u001b[0m \u001b[38;5;28;01mreturn\u001b[39;00m \u001b[43mio_open\u001b[49m\u001b[43m(\u001b[49m\u001b[43mfile\u001b[49m\u001b[43m,\u001b[49m\u001b[43m \u001b[49m\u001b[38;5;241;43m*\u001b[39;49m\u001b[43margs\u001b[49m\u001b[43m,\u001b[49m\u001b[43m \u001b[49m\u001b[38;5;241;43m*\u001b[39;49m\u001b[38;5;241;43m*\u001b[39;49m\u001b[43mkwargs\u001b[49m\u001b[43m)\u001b[49m\n",
      "\u001b[1;31mFileNotFoundError\u001b[0m: [Errno 2] No such file or directory: ''"
     ]
    }
   ],
   "source": [
    "#to get the FIR number\n",
    "import PyPDF2\n",
    "\n",
    "# Prompt the user for the target string and file name\n",
    "target_str = input(\"Enter the target string: \")\n",
    "file_name = input(\"Enter the file name: \")\n",
    "\n",
    "# Open the PDF file in read binary mode\n",
    "with open(file_name, 'rb') as f:\n",
    "    # Create a PDF reader object\n",
    "    pdf_reader = PyPDF2.PdfFileReader(f)\n",
    "\n",
    "    # Loop through each page in the PDF\n",
    "    for page_num in range(pdf_reader.numPages):\n",
    "        # Get the text content of the current page\n",
    "        page_text = pdf_reader.getPage(page_num).extractText()\n",
    "\n",
    "        # Search for the target string in the page text\n",
    "        target_index = page_text.find(target_str)\n",
    "\n",
    "        # If the target string is found, print it and the next string\n",
    "        if target_index != -1:\n",
    "            # Get the next string after the target string\n",
    "            next_index = page_text.find('\\n', target_index)\n",
    "            next_str = page_text[target_index+len(target_str):next_index].strip()\n",
    "\n",
    "            # Print the target string and next string\n",
    "            print(target_str + \": \" + next_str)"
   ]
  },
  {
   "cell_type": "code",
   "execution_count": 18,
   "id": "479f2fd0",
   "metadata": {},
   "outputs": [],
   "source": [
    "#program to find any assault weapon\n",
    "import re\n",
    "\n",
    "# Search for keywords related to a murder\n",
    "keywords = ['murder', 'weapon', 'bloodstain', 'DNA','blood', 'fingerprints','Witness']\n",
    "for keyword in keywords:\n",
    "    for item in my_list_without_punctuations:\n",
    "        if re.search(r'\\b{}\\b'.format(keyword), item, flags=re.IGNORECASE):\n",
    "            print('Found evidence related to {}:'.format(keyword))\n",
    "            print(item)"
   ]
  },
  {
   "cell_type": "code",
   "execution_count": 19,
   "id": "ec930861",
   "metadata": {},
   "outputs": [],
   "source": [
    "#program to find any assault weapon\n",
    "import re\n",
    "\n",
    "# Search for keywords related to a murder\n",
    "keywords = ['Accused', 'Alleged', 'Apprehended', 'Arrested', 'Detained', 'Defendant', 'Embroiled', 'Implicated', 'Involved', 'Under investigation', 'Person of interest']\n",
    "for keyword in keywords:\n",
    "    for item in my_list_without_punctuations:\n",
    "        if re.search(r'\\b{}\\b'.format(keyword), item, flags=re.IGNORECASE):\n",
    "            print('Found evidence related to {}:'.format(keyword))\n",
    "            print(item)"
   ]
  },
  {
   "cell_type": "code",
   "execution_count": 20,
   "id": "04c6e984",
   "metadata": {},
   "outputs": [],
   "source": [
    "#program to find the death type\n",
    "import re\n",
    "\n",
    "# Search for keywords related to a murder\n",
    "keywords = ['suicide', 'murder']\n",
    "for keyword in keywords:\n",
    "    for item in my_list_without_punctuations:\n",
    "        if re.search(r'\\b{}\\b'.format(keyword), item, flags=re.IGNORECASE):\n",
    "            print('Death by {}:'.format(keyword))\n",
    "            print(item)"
   ]
  },
  {
   "cell_type": "code",
   "execution_count": 21,
   "id": "af557633",
   "metadata": {},
   "outputs": [
    {
     "name": "stdout",
     "output_type": "stream",
     "text": [
      "[]\n"
     ]
    }
   ],
   "source": [
    "import nltk\n",
    "\n",
    "# Function to extract criminal names from sentences\n",
    "def extract_criminal_names(sentences):\n",
    "    criminal_names = []\n",
    "    for sentence in sentences:\n",
    "        # Tokenize sentence into words\n",
    "        words = nltk.word_tokenize(sentence)\n",
    "        \n",
    "        # Apply Part-of-Speech (POS) tagging to words\n",
    "        pos_tags = nltk.pos_tag(words)\n",
    "        \n",
    "        # Extract proper nouns tagged as 'NNP' or 'NNPS'\n",
    "        proper_nouns = [word for word, tag in pos_tags if tag in ['NNP', 'NNPS']]\n",
    "        \n",
    "        # Add proper nouns to criminal names list\n",
    "        criminal_names += proper_nouns\n",
    "    \n",
    "    return criminal_names\n",
    "\n",
    "# Call the function to extract criminal names\n",
    "criminal_names = extract_criminal_names(my_list_without_punctuations)\n",
    "\n",
    "# Print the extracted criminal names\n",
    "print(criminal_names)"
   ]
  },
  {
   "cell_type": "code",
   "execution_count": 22,
   "id": "e5711419",
   "metadata": {},
   "outputs": [
    {
     "ename": "FileNotFoundError",
     "evalue": "[Errno 2] No such file or directory: 'D:/State_vs_Mr_Amit_Kumar_on_23_May_2013.pdf'",
     "output_type": "error",
     "traceback": [
      "\u001b[1;31m---------------------------------------------------------------------------\u001b[0m",
      "\u001b[1;31mFileNotFoundError\u001b[0m                         Traceback (most recent call last)",
      "Cell \u001b[1;32mIn[22], line 6\u001b[0m\n\u001b[0;32m      3\u001b[0m \u001b[38;5;28;01mimport\u001b[39;00m \u001b[38;5;21;01mre\u001b[39;00m\n\u001b[0;32m      5\u001b[0m \u001b[38;5;66;03m# Load the PDF file\u001b[39;00m\n\u001b[1;32m----> 6\u001b[0m pdf_file \u001b[38;5;241m=\u001b[39m \u001b[38;5;28;43mopen\u001b[39;49m\u001b[43m(\u001b[49m\u001b[38;5;124;43m'\u001b[39;49m\u001b[38;5;124;43mD:/State_vs_Mr_Amit_Kumar_on_23_May_2013.pdf\u001b[39;49m\u001b[38;5;124;43m'\u001b[39;49m\u001b[43m,\u001b[49m\u001b[43m \u001b[49m\u001b[38;5;124;43m'\u001b[39;49m\u001b[38;5;124;43mrb\u001b[39;49m\u001b[38;5;124;43m'\u001b[39;49m\u001b[43m)\u001b[49m\n\u001b[0;32m      7\u001b[0m pdf_reader \u001b[38;5;241m=\u001b[39m PyPDF2\u001b[38;5;241m.\u001b[39mPdfFileReader(pdf_file)\n\u001b[0;32m      9\u001b[0m \u001b[38;5;66;03m# Extract the text from the PDF file\u001b[39;00m\n",
      "File \u001b[1;32m~\\AppData\\Local\\Programs\\Python\\Python311\\Lib\\site-packages\\IPython\\core\\interactiveshell.py:284\u001b[0m, in \u001b[0;36m_modified_open\u001b[1;34m(file, *args, **kwargs)\u001b[0m\n\u001b[0;32m    277\u001b[0m \u001b[38;5;28;01mif\u001b[39;00m file \u001b[38;5;129;01min\u001b[39;00m {\u001b[38;5;241m0\u001b[39m, \u001b[38;5;241m1\u001b[39m, \u001b[38;5;241m2\u001b[39m}:\n\u001b[0;32m    278\u001b[0m     \u001b[38;5;28;01mraise\u001b[39;00m \u001b[38;5;167;01mValueError\u001b[39;00m(\n\u001b[0;32m    279\u001b[0m         \u001b[38;5;124mf\u001b[39m\u001b[38;5;124m\"\u001b[39m\u001b[38;5;124mIPython won\u001b[39m\u001b[38;5;124m'\u001b[39m\u001b[38;5;124mt let you open fd=\u001b[39m\u001b[38;5;132;01m{\u001b[39;00mfile\u001b[38;5;132;01m}\u001b[39;00m\u001b[38;5;124m by default \u001b[39m\u001b[38;5;124m\"\u001b[39m\n\u001b[0;32m    280\u001b[0m         \u001b[38;5;124m\"\u001b[39m\u001b[38;5;124mas it is likely to crash IPython. If you know what you are doing, \u001b[39m\u001b[38;5;124m\"\u001b[39m\n\u001b[0;32m    281\u001b[0m         \u001b[38;5;124m\"\u001b[39m\u001b[38;5;124myou can use builtins\u001b[39m\u001b[38;5;124m'\u001b[39m\u001b[38;5;124m open.\u001b[39m\u001b[38;5;124m\"\u001b[39m\n\u001b[0;32m    282\u001b[0m     )\n\u001b[1;32m--> 284\u001b[0m \u001b[38;5;28;01mreturn\u001b[39;00m \u001b[43mio_open\u001b[49m\u001b[43m(\u001b[49m\u001b[43mfile\u001b[49m\u001b[43m,\u001b[49m\u001b[43m \u001b[49m\u001b[38;5;241;43m*\u001b[39;49m\u001b[43margs\u001b[49m\u001b[43m,\u001b[49m\u001b[43m \u001b[49m\u001b[38;5;241;43m*\u001b[39;49m\u001b[38;5;241;43m*\u001b[39;49m\u001b[43mkwargs\u001b[49m\u001b[43m)\u001b[49m\n",
      "\u001b[1;31mFileNotFoundError\u001b[0m: [Errno 2] No such file or directory: 'D:/State_vs_Mr_Amit_Kumar_on_23_May_2013.pdf'"
     ]
    }
   ],
   "source": [
    "import PyPDF2\n",
    "import nltk\n",
    "import re\n",
    "\n",
    "# Load the PDF file\n",
    "pdf_file = open('D:/State_vs_Mr_Amit_Kumar_on_23_May_2013.pdf', 'rb')\n",
    "pdf_reader = PyPDF2.PdfFileReader(pdf_file)\n",
    "\n",
    "# Extract the text from the PDF file\n",
    "text = ''\n",
    "for page in range(pdf_reader.numPages):\n",
    "    text += pdf_reader.getPage(page).extractText()\n",
    "\n",
    "# Tokenize the text into sentences\n",
    "sentences = nltk.sent_tokenize(text)\n",
    "\n",
    "# Identify person names using named entity recognition (NER)\n",
    "person_names = []\n",
    "for sentence in sentences:\n",
    "    tokens = nltk.word_tokenize(sentence)\n",
    "    tagged = nltk.pos_tag(tokens)\n",
    "    entities = nltk.chunk.ne_chunk(tagged)\n",
    "    for entity in entities:\n",
    "        if hasattr(entity, 'label') and entity.label() == 'PERSON':\n",
    "            person_names.append(' '.join(c[0] for c in entity.leaves()))\n",
    "\n",
    "# Print the extracted person names\n",
    "print('Person names found in the document:')\n",
    "print(person_names)\n",
    "\n",
    "# Print the relationships between the person names\n",
    "print('\\nRelationships between the person names:')\n",
    "for i in range(len(person_names)):\n",
    "    for j in range(i+1, len(person_names)):\n",
    "        relation = nltk.ne_chunk(nltk.pos_tag(nltk.word_tokenize(person_names[i] + ' is son of ' + person_names[j])))\n",
    "        for entity in relation:\n",
    "            if hasattr(entity, 'label') and entity.label() == 'PERSON':\n",
    "                print(person_names[i] + ' is son of ' + person_names[j])"
   ]
  },
  {
   "cell_type": "code",
   "execution_count": null,
   "id": "9d13c4cb",
   "metadata": {},
   "outputs": [],
   "source": []
  },
  {
   "cell_type": "code",
   "execution_count": null,
   "id": "c6a0925e",
   "metadata": {},
   "outputs": [],
   "source": []
  },
  {
   "cell_type": "code",
   "execution_count": null,
   "id": "111e4954",
   "metadata": {},
   "outputs": [],
   "source": []
  },
  {
   "cell_type": "code",
   "execution_count": null,
   "id": "e4f082bc",
   "metadata": {},
   "outputs": [],
   "source": []
  }
 ],
 "metadata": {
  "kernelspec": {
   "display_name": "Python 3 (ipykernel)",
   "language": "python",
   "name": "python3"
  },
  "language_info": {
   "codemirror_mode": {
    "name": "ipython",
    "version": 3
   },
   "file_extension": ".py",
   "mimetype": "text/x-python",
   "name": "python",
   "nbconvert_exporter": "python",
   "pygments_lexer": "ipython3",
   "version": "3.11.2"
  }
 },
 "nbformat": 4,
 "nbformat_minor": 5
}
